{
 "cells": [
  {
   "cell_type": "code",
   "execution_count": 3,
   "id": "7cbc369a",
   "metadata": {},
   "outputs": [
    {
     "name": "stderr",
     "output_type": "stream",
     "text": [
      "Cloning into 'MultiWOZ2.4'...\n"
     ]
    }
   ],
   "source": [
    "!git clone https://github.com/smartyfh/MultiWOZ2.4.git"
   ]
  },
  {
   "cell_type": "code",
   "execution_count": 12,
   "id": "8c2eee93",
   "metadata": {},
   "outputs": [
    {
     "name": "stdout",
     "output_type": "stream",
     "text": [
      "c:\\Users\\Xiaocheng Yang\\Documents\\Code Files\\MultiWOZ-ReAct\\MultiWOZ2.4\n",
      "Create WOZ-like dialogues. Get yourself a coffee, this might take a while.\n",
      "Downloading and unzipping the MultiWOZ 2.4 dataset\n",
      "Divide dialogues...\n",
      "# of dialogues: Train 8420, Val 1000, Test 999\n",
      "c:\\Users\\Xiaocheng Yang\\Documents\\Code Files\\MultiWOZ-ReAct\n"
     ]
    },
    {
     "name": "stderr",
     "output_type": "stream",
     "text": [
      "c:\\Users\\Xiaocheng Yang\\Documents\\Code Files\\MultiWOZ-ReAct\\MultiWOZ2.4\\create_data.py:73: SyntaxWarning: invalid escape sequence '\\('\n",
      "  ms = re.findall('\\(?(\\d{3})\\)?[-.\\s]?(\\d{3})[-.\\s]?(\\d{4,5})', text)\n",
      "c:\\Users\\Xiaocheng Yang\\Documents\\Code Files\\MultiWOZ-ReAct\\MultiWOZ2.4\\create_data.py:84: SyntaxWarning: invalid escape sequence '\\.'\n",
      "  ms = re.findall('([a-z]{1}[\\. ]?[a-z]{1}[\\. ]?\\d{1,2}[, ]+\\d{1}[\\. ]?[a-z]{1}[\\. ]?[a-z]{1}|[a-z]{2}\\d{2}[a-z]{2})',\n",
      "c:\\Users\\Xiaocheng Yang\\Documents\\Code Files\\MultiWOZ-ReAct\\MultiWOZ2.4\\create_data.py:91: SyntaxWarning: invalid escape sequence '\\.'\n",
      "  text = text[:sidx] + re.sub('[,\\. ]', '', m) + text[eidx:]\n",
      "c:\\Users\\Xiaocheng Yang\\Documents\\Code Files\\MultiWOZ-ReAct\\MultiWOZ2.4\\create_data.py:104: SyntaxWarning: invalid escape sequence '\\/'\n",
      "  text = re.sub('$\\/', '', text)\n",
      "c:\\Users\\Xiaocheng Yang\\Documents\\Code Files\\MultiWOZ-ReAct\\MultiWOZ2.4\\create_data.py:109: SyntaxWarning: invalid escape sequence '\\<'\n",
      "  text = re.sub('[\\\"\\<>@\\(\\)]', '', text) # remove\n",
      "c:\\Users\\Xiaocheng Yang\\Documents\\Code Files\\MultiWOZ-ReAct\\MultiWOZ2.4\\create_data.py:121: SyntaxWarning: invalid escape sequence '\\s'\n",
      "  text = re.sub('\\'\\s', ' ', text)\n",
      "c:\\Users\\Xiaocheng Yang\\Documents\\Code Files\\MultiWOZ-ReAct\\MultiWOZ2.4\\create_data.py:122: SyntaxWarning: invalid escape sequence '\\s'\n",
      "  text = re.sub('\\s\\'', ' ', text)\n",
      "c:\\Users\\Xiaocheng Yang\\Documents\\Code Files\\MultiWOZ-ReAct\\MultiWOZ2.4\\create_data.py:135: SyntaxWarning: invalid escape sequence '\\d'\n",
      "  if re.match(u'^\\d+$', tokens[i]) and \\\n",
      "c:\\Users\\Xiaocheng Yang\\Documents\\Code Files\\MultiWOZ-ReAct\\MultiWOZ2.4\\create_data.py:136: SyntaxWarning: invalid escape sequence '\\d'\n",
      "  re.match(u'\\d+$', tokens[i - 1]):\n"
     ]
    }
   ],
   "source": [
    "%cd MultiWOZ2.4\n",
    "!python create_data.py\n",
    "%cd .."
   ]
  },
  {
   "cell_type": "code",
   "execution_count": 1,
   "id": "1144d106-c344-4513-ab56-134f4d01492a",
   "metadata": {},
   "outputs": [],
   "source": [
    "from openai import OpenAI, AzureOpenAI\n",
    "from getpass import getpass\n",
    "\n",
    "from actions import known_actions\n",
    "from chatbot import ChatBot\n",
    "from prompt import eval_prompt_v3_zero_shot"
   ]
  },
  {
   "cell_type": "code",
   "execution_count": null,
   "id": "3a77c18f",
   "metadata": {},
   "outputs": [],
   "source": [
    "client_config = {\n",
    "    \"client\": AzureOpenAI(\n",
    "        azure_endpoint = \"azure_endpoint\",\n",
    "        api_key = getpass(\"🔑 Enter your OpenAI API key: \"),\n",
    "        api_version=\"api_version\"\n",
    "    ),\n",
    "    \"model\": \"gpt-4o\",\n",
    "}"
   ]
  },
  {
   "cell_type": "code",
   "execution_count": null,
   "id": "41a89950-fe91-485a-9ff5-b07206f62de1",
   "metadata": {},
   "outputs": [
    {
     "name": "stdout",
     "output_type": "stream",
     "text": [
      "[Assistant]\n",
      "How can I assist you today?\n",
      "[Assistant]\n",
      "Could you please provide me with more details about the restaurant you're looking for? \n",
      "- Preferred area (centre, north, south, east, west, any)?\n",
      "- Preferred price range (cheap, moderate, expensive, any)?\n",
      "- Type of cuisine or food?\n",
      "- Specific name of the restaurant (if any)?\n",
      "\n",
      "Providing these details will help me find the best match for you.\n",
      "[Assistant]\n",
      "Please provide details regarding the restaurant you're looking for:\n",
      "1. Area (centre, north, south, east, west, any)?\n",
      "2. Price range (cheap, moderate, expensive, any)?\n",
      "3. Type of cuisine?\n",
      "4. Specific name of the restaurant (if any)?\n",
      "\n",
      "This will help me find the best options for you.\n"
     ]
    }
   ],
   "source": [
    "bot = ChatBot(system=eval_prompt_v3_zero_shot, known_actions=known_actions, client_config=client_config)\n",
    "\n",
    "bot.start_session()"
   ]
  },
  {
   "cell_type": "code",
   "execution_count": 3,
   "id": "aae0b534-a5a7-43d5-ab3a-f914399227ec",
   "metadata": {},
   "outputs": [
    {
     "name": "stdout",
     "output_type": "stream",
     "text": [
      "Running on local URL:  http://127.0.0.1:7861\n"
     ]
    },
    {
     "name": "stderr",
     "output_type": "stream",
     "text": [
      "c:\\Users\\Xiaocheng Yang\\.conda\\envs\\multiwoz_react\\Lib\\site-packages\\gradio\\analytics.py:106: UserWarning: IMPORTANT: You are using gradio version 4.44.0, however version 4.44.1 is available, please upgrade. \n",
      "--------\n",
      "  warnings.warn(\n"
     ]
    },
    {
     "name": "stdout",
     "output_type": "stream",
     "text": [
      "Running on public URL: https://75280af831a6b9a274.gradio.live\n",
      "\n",
      "This share link expires in 72 hours. For free permanent hosting and GPU upgrades, run `gradio deploy` from Terminal to deploy to Spaces (https://huggingface.co/spaces)\n"
     ]
    },
    {
     "data": {
      "text/html": [
       "<div><iframe src=\"https://75280af831a6b9a274.gradio.live\" width=\"100%\" height=\"500\" allow=\"autoplay; camera; microphone; clipboard-read; clipboard-write;\" frameborder=\"0\" allowfullscreen></iframe></div>"
      ],
      "text/plain": [
       "<IPython.core.display.HTML object>"
      ]
     },
     "metadata": {},
     "output_type": "display_data"
    }
   ],
   "source": [
    "bot = ChatBot(system=eval_prompt_v3_zero_shot, known_actions=known_actions, client_config=client_config)\n",
    "\n",
    "bot.start_gradio_session()"
   ]
  }
 ],
 "metadata": {
  "kernelspec": {
   "display_name": "multiwoz_react",
   "language": "python",
   "name": "python3"
  },
  "language_info": {
   "codemirror_mode": {
    "name": "ipython",
    "version": 3
   },
   "file_extension": ".py",
   "mimetype": "text/x-python",
   "name": "python",
   "nbconvert_exporter": "python",
   "pygments_lexer": "ipython3",
   "version": "3.12.5"
  }
 },
 "nbformat": 4,
 "nbformat_minor": 5
}
