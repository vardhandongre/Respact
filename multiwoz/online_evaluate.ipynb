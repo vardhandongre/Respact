{
 "cells": [
  {
   "cell_type": "code",
   "execution_count": 2,
   "id": "644d1a1e",
   "metadata": {},
   "outputs": [
    {
     "name": "stderr",
     "output_type": "stream",
     "text": [
      "fatal: destination path 'MultiWOZ2.4' already exists and is not an empty directory.\n"
     ]
    }
   ],
   "source": [
    "!git clone \"https://github.com/smartyfh/MultiWOZ2.4.git\""
   ]
  },
  {
   "cell_type": "code",
   "execution_count": 9,
   "id": "c229cde2",
   "metadata": {},
   "outputs": [
    {
     "name": "stdout",
     "output_type": "stream",
     "text": [
      "c:\\Users\\Xiaocheng Yang\\Documents\\Code Files\\Respact\\multiwoz\\MultiWOZ2.4\n",
      "Create WOZ-like dialogues. Get yourself a coffee, this might take a while.\n",
      "Downloading and unzipping the MultiWOZ 2.4 dataset\n",
      "Divide dialogues...\n",
      "# of dialogues: Train 8420, Val 1000, Test 999\n",
      "c:\\Users\\Xiaocheng Yang\\Documents\\Code Files\\Respact\\multiwoz\n"
     ]
    }
   ],
   "source": [
    "%cd \"MultiWOZ2.4\"\n",
    "!python create_data.py\n",
    "%cd \"..\""
   ]
  },
  {
   "cell_type": "code",
   "execution_count": null,
   "id": "7c1183d0-5dce-4720-adce-89ae53db34ca",
   "metadata": {},
   "outputs": [],
   "source": [
    "from prompt import eval_prompt_respact_v5_0_shot\n",
    "from evaluator import evaluator\n",
    "from openai import OpenAI, AzureOpenAI\n",
    "from getpass import getpass\n",
    "import json\n",
    "import random\n",
    "\n",
    "with open(\"MultiWOZ2.4/data/mwz2.4/test_dials.json\", \"r\") as f:\n",
    "    data = json.load(f)\n",
    "\n",
    "with open(\"MultiWOZ2.4/data/mwz24/data.json\", \"r\") as f:\n",
    "    old_data = json.load(f)"
   ]
  },
  {
   "cell_type": "markdown",
   "id": "b47164b2",
   "metadata": {},
   "source": [
    "# Data Process"
   ]
  },
  {
   "cell_type": "code",
   "execution_count": null,
   "id": "5c2ef84f",
   "metadata": {},
   "outputs": [],
   "source": [
    "sample = 100 # Interger or None"
   ]
  },
  {
   "cell_type": "code",
   "execution_count": 12,
   "id": "50b4c9e0-e365-41cf-bcb8-39447ba381c5",
   "metadata": {},
   "outputs": [],
   "source": [
    "domains_in_interest = [\"taxi\", \"restaurant\", \"attraction\", \"hotel\", \"train\"]"
   ]
  },
  {
   "cell_type": "code",
   "execution_count": 13,
   "id": "0ace2d21-eda2-43b5-a19f-ac7179b067d7",
   "metadata": {},
   "outputs": [],
   "source": [
    "def get_domains_samples(data, domains_in_interest):\n",
    "    domains_samples = {domain: list() for domain in domains_in_interest}\n",
    "    processed_data = dict()\n",
    "    for dialogue_content in data:\n",
    "        for domain in dialogue_content[\"domains\"]:\n",
    "            if domain in domains_in_interest:\n",
    "                domains_samples[domain].append(dialogue_content[\"dialogue_idx\"])\n",
    "                processed_data[dialogue_content[\"dialogue_idx\"]] = dialogue_content\n",
    "    return domains_samples, processed_data"
   ]
  },
  {
   "cell_type": "code",
   "execution_count": 14,
   "id": "19b6cad9-cfed-411f-be42-353ed3bda9cf",
   "metadata": {},
   "outputs": [],
   "source": [
    "domains_samples, data = get_domains_samples(data, domains_in_interest)"
   ]
  },
  {
   "cell_type": "code",
   "execution_count": null,
   "id": "6ef2bde9-764b-4411-bac1-f0700d7dd53f",
   "metadata": {},
   "outputs": [
    {
     "name": "stdout",
     "output_type": "stream",
     "text": [
      "1\n",
      "['PMUL3107.json']\n",
      "1915\n"
     ]
    }
   ],
   "source": [
    "total_samples = set()\n",
    "total_length = 0\n",
    "\n",
    "for domain, samples in domains_samples.items():\n",
    "    total_samples = total_samples.union(set(samples))\n",
    "    total_length += len(samples)\n",
    "if sample:\n",
    "    total_samples = sorted(list(total_samples))\n",
    "    random.seed(10)\n",
    "    total_samples = random.sample(total_samples, sample)\n",
    "else:\n",
    "    total_samples = list(total_samples)\n",
    "\n",
    "print(len(total_samples))\n",
    "print(total_samples[:5])\n",
    "print(total_length)"
   ]
  },
  {
   "cell_type": "markdown",
   "id": "d37324cf",
   "metadata": {},
   "source": [
    "# Client Config"
   ]
  },
  {
   "cell_type": "code",
   "execution_count": null,
   "id": "67406a83-17bd-4a31-b23c-868f36cd6e98",
   "metadata": {},
   "outputs": [],
   "source": [
    "client_config = {\n",
    "    \"client\": AzureOpenAI(\n",
    "        azure_endpoint = \"azure_endpoint\",\n",
    "        api_key = getpass(\"🔑 Enter your OpenAI API key: \"),\n",
    "        api_version=\"api_version\"\n",
    "    ),\n",
    "    \"model\": \"gpt-4o-mini\",\n",
    "}\n",
    "\n",
    "# client_config = {\n",
    "#     \"client\": OpenAI(\n",
    "#         base_url = \"base_url\",\n",
    "#         api_key = getpass(\"🔑 Enter your OpenAI API key: \"),\n",
    "#     ),\n",
    "#     \"model\": \"gpt-4o-mini\",\n",
    "# }"
   ]
  },
  {
   "cell_type": "code",
   "execution_count": null,
   "id": "d70f2603-50d1-4a31-95ed-6c9f2c52a2c4",
   "metadata": {},
   "outputs": [],
   "source": [
    "user_client_config = {\n",
    "    \"client\": AzureOpenAI(\n",
    "        azure_endpoint = \"azure_endpoint\",\n",
    "        api_key = getpass(\"🔑 Enter your OpenAI API key: \"),\n",
    "        api_version=\"api_version\"\n",
    "    ),\n",
    "    \"model\": \"gpt-4o-mini\",\n",
    "}\n",
    "\n",
    "# user_client_config = {\n",
    "#     \"client\": OpenAI(\n",
    "#         base_url = \"base_url\",\n",
    "#         api_key = getpass(\"🔑 Enter your OpenAI API key: \"),\n",
    "#     ),\n",
    "#     \"model\": \"gpt-4o-mini\",\n",
    "# }"
   ]
  },
  {
   "cell_type": "markdown",
   "id": "e6af70e1",
   "metadata": {},
   "source": [
    "# Evaluation"
   ]
  },
  {
   "cell_type": "code",
   "execution_count": null,
   "id": "abe4da88",
   "metadata": {},
   "outputs": [],
   "source": [
    "online_evaluator = evaluator(\n",
    "    data,\n",
    "    old_data,\n",
    "    total_samples,\n",
    "    prompt=eval_prompt_respact_v5_0_shot,\n",
    "    client_config=client_config,\n",
    "    user_client_config=user_client_config,\n",
    "    online=True\n",
    ")"
   ]
  },
  {
   "cell_type": "code",
   "execution_count": 9,
   "id": "925d68f1-7660-426b-b663-c855359cd88e",
   "metadata": {},
   "outputs": [
    {
     "name": "stderr",
     "output_type": "stream",
     "text": [
      "100%|██████████| 100/100 [1:26:23<00:00, 51.83s/it]\n"
     ]
    }
   ],
   "source": [
    "save_dir = \"eval_result_online-41.json\"\n",
    "\n",
    "online_evaluator.evaluate()\n",
    "online_evaluator.save_result(save_dir)"
   ]
  },
  {
   "cell_type": "code",
   "execution_count": null,
   "id": "c0aa9d5f-7c55-4ba9-ba5e-24b4a643caa9",
   "metadata": {},
   "outputs": [],
   "source": []
  }
 ],
 "metadata": {
  "kernelspec": {
   "display_name": "respact",
   "language": "python",
   "name": "python3"
  },
  "language_info": {
   "codemirror_mode": {
    "name": "ipython",
    "version": 3
   },
   "file_extension": ".py",
   "mimetype": "text/x-python",
   "name": "python",
   "nbconvert_exporter": "python",
   "pygments_lexer": "ipython3",
   "version": "3.10.15"
  }
 },
 "nbformat": 4,
 "nbformat_minor": 5
}
