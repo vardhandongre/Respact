{
 "cells": [
  {
   "cell_type": "code",
   "execution_count": null,
   "id": "644d1a1e",
   "metadata": {},
   "outputs": [],
   "source": [
    "!git clone \"https://github.com/smartyfh/MultiWOZ2.4.git\""
   ]
  },
  {
   "cell_type": "code",
   "execution_count": null,
   "id": "c229cde2",
   "metadata": {},
   "outputs": [],
   "source": [
    "%cd \"MultiWOZ2.4\"\n",
    "!python create_data.py\n",
    "%cd \"..\""
   ]
  },
  {
   "cell_type": "code",
   "execution_count": null,
   "id": "7c1183d0-5dce-4720-adce-89ae53db34ca",
   "metadata": {},
   "outputs": [],
   "source": [
    "from prompt import eval_prompt_v3, eval_prompt_v3_reduced_objective\n",
    "from evaluator import evaluator\n",
    "from openai import OpenAI, AzureOpenAI\n",
    "from getpass import getpass\n",
    "import json\n",
    "import random\n",
    "\n",
    "with open(\"MultiWOZ2.4/data/mwz2.4/test_dials.json\", \"r\") as f:\n",
    "    data = json.load(f)\n",
    "\n",
    "with open(\"MultiWOZ2.4/data/mwz24/data.json\", \"r\") as f:\n",
    "    old_data = json.load(f)"
   ]
  },
  {
   "cell_type": "code",
   "execution_count": 2,
   "id": "50b4c9e0-e365-41cf-bcb8-39447ba381c5",
   "metadata": {},
   "outputs": [],
   "source": [
    "domains_in_interest = [\"taxi\", \"restaurant\", \"attraction\", \"hotel\", \"train\"]"
   ]
  },
  {
   "cell_type": "code",
   "execution_count": 3,
   "id": "0ace2d21-eda2-43b5-a19f-ac7179b067d7",
   "metadata": {},
   "outputs": [],
   "source": [
    "def get_domains_samples(data, domains_in_interest):\n",
    "    domains_samples = {domain: list() for domain in domains_in_interest}\n",
    "    processed_data = dict()\n",
    "    for dialogue_content in data:\n",
    "        for domain in dialogue_content[\"domains\"]:\n",
    "            if domain in domains_in_interest:\n",
    "                domains_samples[domain].append(dialogue_content[\"dialogue_idx\"])\n",
    "                processed_data[dialogue_content[\"dialogue_idx\"]] = dialogue_content\n",
    "    return domains_samples, processed_data"
   ]
  },
  {
   "cell_type": "code",
   "execution_count": 4,
   "id": "19b6cad9-cfed-411f-be42-353ed3bda9cf",
   "metadata": {},
   "outputs": [],
   "source": [
    "domains_samples, data = get_domains_samples(data, domains_in_interest)"
   ]
  },
  {
   "cell_type": "code",
   "execution_count": null,
   "id": "6ef2bde9-764b-4411-bac1-f0700d7dd53f",
   "metadata": {},
   "outputs": [
    {
     "name": "stdout",
     "output_type": "stream",
     "text": [
      "999\n",
      "['MUL1274.json', 'MUL1806.json', 'PMUL3599.json', 'MUL1848.json', 'PMUL2746.json']\n",
      "1915\n"
     ]
    }
   ],
   "source": [
    "total_samples = set()\n",
    "total_length = 0\n",
    "\n",
    "for domain, samples in domains_samples.items():\n",
    "    total_samples = total_samples.union(set(samples))\n",
    "    total_length += len(samples)\n",
    "# total_samples = list(total_samples)\n",
    "total_samples = sorted(list(total_samples))\n",
    "random.seed(10)\n",
    "total_samples = random.sample(total_samples, 100)\n",
    "\n",
    "print(len(total_samples))\n",
    "print(total_samples[:5])\n",
    "print(total_length)"
   ]
  },
  {
   "cell_type": "code",
   "execution_count": null,
   "id": "eb82161c-eec0-42f9-a133-569713b327f6",
   "metadata": {},
   "outputs": [],
   "source": [
    "client_config = {\n",
    "    \"client\": AzureOpenAI(\n",
    "        azure_endpoint = \"https://uiuc-convai.openai.azure.com/\",\n",
    "        api_key = getpass(\"🔑 Enter your OpenAI API key: \"),\n",
    "        api_version=\"2024-02-15-preview\"\n",
    "    ),\n",
    "    \"model\": \"gpt-4o-mini\",\n",
    "}"
   ]
  },
  {
   "cell_type": "code",
   "execution_count": 7,
   "id": "abe4da88",
   "metadata": {},
   "outputs": [],
   "source": [
    "offline_evaluator = evaluator(\n",
    "    data,\n",
    "    old_data,\n",
    "    total_samples,\n",
    "    prompt=eval_prompt_v3,\n",
    "    # prompt=eval_prompt_v3_reduced_objective,\n",
    "    client_config=client_config,\n",
    "    online=False\n",
    ")"
   ]
  },
  {
   "cell_type": "code",
   "execution_count": 8,
   "id": "925d68f1-7660-426b-b663-c855359cd88e",
   "metadata": {},
   "outputs": [
    {
     "name": "stderr",
     "output_type": "stream",
     "text": [
      "100%|██████████| 999/999 [17:15:07<00:00, 62.17s/it]    \n"
     ]
    }
   ],
   "source": [
    "save_dir = \"eval_result-38.json\"\n",
    "\n",
    "offline_evaluator.evaluate()\n",
    "offline_evaluator.save_result(save_dir)"
   ]
  },
  {
   "cell_type": "code",
   "execution_count": null,
   "id": "dfdb04dd-854a-43b2-8ccf-567542e6ea1b",
   "metadata": {},
   "outputs": [],
   "source": []
  }
 ],
 "metadata": {
  "kernelspec": {
   "display_name": "multiwoz_react",
   "language": "python",
   "name": "python3"
  },
  "language_info": {
   "codemirror_mode": {
    "name": "ipython",
    "version": 3
   },
   "file_extension": ".py",
   "mimetype": "text/x-python",
   "name": "python",
   "nbconvert_exporter": "python",
   "pygments_lexer": "ipython3",
   "version": "3.12.5"
  }
 },
 "nbformat": 4,
 "nbformat_minor": 5
}
